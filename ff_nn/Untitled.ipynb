{
 "cells": [
  {
   "cell_type": "code",
   "execution_count": 4,
   "metadata": {},
   "outputs": [],
   "source": [
    "from __future__ import division\n",
    "import random\n",
    "import math\n",
    "import numpy as np\n",
    "import time\n",
    "import tensorflow as tf"
   ]
  },
  {
   "cell_type": "code",
   "execution_count": 5,
   "metadata": {},
   "outputs": [],
   "source": [
    "sigmoid = lambda z: float(1/(1 + np.exp(-z)))\n",
    "relu = lambda z: 0 if(z<=0) else float(z)\n",
    "\n",
    "class Layer:\n",
    "    def __init__(self,name,weights, bias, X,activation):\n",
    "        self.name = name\n",
    "        self.weights = weights\n",
    "        self.bias = bias\n",
    "        self.n_x = weights.shape[1]\n",
    "        self.n_y = weights.shape[0]\n",
    "        self.n_params = self.n_x * self.n_y + self.n_y\n",
    "        self.X = X # Input from previous layer\n",
    "        self.activation = activation\n",
    "    \n",
    "    def forward_pass(self):\n",
    "         return np.dot(self.weights, self.X) + self.bias\n",
    "    \n",
    "    def apply_activation(self):\n",
    "        forward_values = self.forward_pass()\n",
    "        return np.vectorize(self.activation)(forward_values)\n",
    "    \n",
    "def bin_cost(values, y):\n",
    "    return tf.nn.sigmoid_cross_entropy_with_logits(labels= y, logits= values)\n",
    "\n",
    "def reg_cost(values, y):\n",
    "    return tf.keras.metrics.mean_squared_error(y_true=y, y_pred=values)\n",
    "\n",
    "def unpack_ff_weights(weights, input_shape, mid_layer_shape):\n",
    "    end = input_shape[0]*mid_layer_shape[0]\n",
    "    a = weights[0:end].reshape(mid_layer_shape[0],input_shape[0])\n",
    "    \n",
    "    b = weights[end:end+mid_layer_shape[0]].reshape(mid_layer_shape[0],1)\n",
    "    end+=mid_layer_shape[0]\n",
    "    \n",
    "    c = weights[end:end+mid_layer_shape[0]].reshape(1,mid_layer_shape[0])\n",
    "    end+=mid_layer_shape[0]\n",
    "    \n",
    "    d = weights[end:end+1].reshape(1,1)\n",
    "    \n",
    "    return (a,b,c,d)\n",
    "\n",
    "def pack_ff_weights(weights_1, bias_1, weights_2, bias_2):\n",
    "    return np.concatenate((weights_1.flatten(), bias_1.flatten(), weights_2.flatten(), bias_2.flatten()), axis=0)\n",
    "\n",
    "def calculate_dimensions(input_size, computation_layer, output_layer):\n",
    "    \n",
    "    temp= input_size * computation_layer\n",
    "    temp+= computation_layer\n",
    "    temp+= (output_layer*computation_layer)\n",
    "    temp+= output_layer\n",
    "    \n",
    "    return temp"
   ]
  },
  {
   "cell_type": "code",
   "execution_count": 6,
   "metadata": {},
   "outputs": [],
   "source": [
    "def forward_pass_weights_bin(weights, input_size, computational_layer, output_layer):\n",
    "    \n",
    "    weights_1, bias_1, weights_2, bias_2 = unpack_weights(weights,(input_size,computational_layer),(computation_layer,output_layer))        \n",
    "    layerOne = Layer(\"input->hidden\",weights_1,bias_1,X_train,relu)\n",
    "    A = layerOne.apply_activation()\n",
    "    layerTwo = Layer(\"hidden->output\",weights_2,bias_2,A,sigmoid)\n",
    "    output = layerTwo.apply_activation()\n",
    "    cost = bin_cost(output, y_train)\n",
    "    return cost\n",
    "    \n",
    "def forward_pass_weights_reg(weights, input_size, computational_layer, output_layer):\n",
    "    \n",
    "    weights_1, bias_1, weights_2, bias_2 = unpack_weights(weights,(input_size,computational_layer),(computation_layer,output_layer))        \n",
    "    layerOne = Layer(\"input->hidden\",weights_1,bias_1,X_train,relu)\n",
    "    A = layerOne.apply_activation()\n",
    "    layerTwo = Layer(\"hidden->output\",weights_2,bias_2,A,sigmoid)\n",
    "    output = layerTwo.apply_activation()\n",
    "    cost = bin_cost(output, y_train)\n",
    "    return cost"
   ]
  },
  {
   "cell_type": "code",
   "execution_count": null,
   "metadata": {},
   "outputs": [],
   "source": []
  }
 ],
 "metadata": {
  "kernelspec": {
   "display_name": "Python 3",
   "language": "python",
   "name": "python3"
  },
  "language_info": {
   "codemirror_mode": {
    "name": "ipython",
    "version": 3
   },
   "file_extension": ".py",
   "mimetype": "text/x-python",
   "name": "python",
   "nbconvert_exporter": "python",
   "pygments_lexer": "ipython3",
   "version": "3.8.3"
  }
 },
 "nbformat": 4,
 "nbformat_minor": 4
}
