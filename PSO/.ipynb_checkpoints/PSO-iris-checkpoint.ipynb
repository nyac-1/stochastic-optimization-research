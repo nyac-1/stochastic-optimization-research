{
 "cells": [
  {
   "cell_type": "code",
   "execution_count": 1,
   "metadata": {},
   "outputs": [],
   "source": [
    "from layer import *\n",
    "\n",
    "from __future__ import division\n",
    "import random\n",
    "import math\n",
    "import numpy as np\n",
    "import pandas as pd\n",
    "import time\n",
    "\n",
    "from sklearn.datasets import load_iris\n",
    "from sklearn.model_selection import train_test_split\n",
    "from sklearn.preprocessing import StandardScaler\n",
    "X = StandardScaler().fit_transform(load_iris().data)\n",
    "y = np.vectorize(lambda x: 1 if(x>0) else 0)(load_iris().target)\n",
    "X_train, X_test, y_train, y_test = train_test_split(X, y, train_size = 0.7, random_state=10, stratify=y)\n",
    "X_train = np.transpose(X_train)\n",
    "X_test = np.transpose(X_test)\n",
    "y_train = y_train.reshape(1,-1)\n",
    "y_test = y_test.reshape(1,-1)"
   ]
  },
  {
   "cell_type": "code",
   "execution_count": null,
   "metadata": {},
   "outputs": [],
   "source": []
  },
  {
   "cell_type": "code",
   "execution_count": 2,
   "metadata": {},
   "outputs": [],
   "source": [
    "global global_best_position\n",
    "global global_best_cost\n",
    "\n",
    "class Particle:\n",
    "    def __init__(self, dimensions):\n",
    "        self.position = np.random.random((dimensions,))\n",
    "        self.dimensions = dimensions\n",
    "        self.position_bounds = [-10,10]\n",
    "        self.velocity_bounds = [(self.position_bounds[1]-self.position_bounds[0])/2, -1 * self.position_bounds[1]]\n",
    "        self.velocity = np.random.random((dimensions,))\n",
    "        self.best_position = np.random.random((dimensions,))\n",
    "        self.best_cost = 1000\n",
    "        \n",
    "        self.c = [2.05,2.05]\n",
    "        self.learning_rate = 0.8\n",
    "        \n",
    "    def evaluate(self, cost):\n",
    "        if(cost<self.best_cost):\n",
    "            self.best_cost = cost\n",
    "            self.best_position = self.position\n",
    "    \n",
    "    def update_velocity(self):\n",
    "        self.velocity = self.learning_rate * (self.velocity) + (self.c[0]*random.random()*(self.best_position - self.position)) + (self.c[1]*random.random()*(global_best_position - self.position))\n",
    "        \n",
    "    def update_position(self):\n",
    "        self.position = self.position + self.velocity\n",
    "        self.position = np.vectorize(lambda z: self.position_bounds[1] if z > self.position_bounds[1] else float(z)) (self.position)\n",
    "        self.position = np.vectorize(lambda z: self.position_bounds[0] if z < self.position_bounds[0] else float(z)) (self.position)\n",
    "        "
   ]
  },
  {
   "cell_type": "code",
   "execution_count": null,
   "metadata": {},
   "outputs": [],
   "source": []
  },
  {
   "cell_type": "code",
   "execution_count": 3,
   "metadata": {},
   "outputs": [
    {
     "ename": "NameError",
     "evalue": "name 'computation_layer' is not defined",
     "output_type": "error",
     "traceback": [
      "\u001b[0;31m---------------------------------------------------------------------------\u001b[0m",
      "\u001b[0;31mNameError\u001b[0m                                 Traceback (most recent call last)",
      "\u001b[0;32m<ipython-input-3-a374cb191482>\u001b[0m in \u001b[0;36m<module>\u001b[0;34m\u001b[0m\n\u001b[1;32m      9\u001b[0m \u001b[0mparticles\u001b[0m \u001b[0;34m=\u001b[0m \u001b[0;34m[\u001b[0m\u001b[0mParticle\u001b[0m\u001b[0;34m(\u001b[0m\u001b[0mdimensions\u001b[0m \u001b[0;34m=\u001b[0m \u001b[0mdimensions\u001b[0m\u001b[0;34m)\u001b[0m \u001b[0;32mfor\u001b[0m \u001b[0mx\u001b[0m \u001b[0;32min\u001b[0m \u001b[0mrange\u001b[0m\u001b[0;34m(\u001b[0m\u001b[0mn_population\u001b[0m\u001b[0;34m)\u001b[0m\u001b[0;34m]\u001b[0m\u001b[0;34m\u001b[0m\u001b[0;34m\u001b[0m\u001b[0m\n\u001b[1;32m     10\u001b[0m \u001b[0mglobal_best_position\u001b[0m \u001b[0;34m=\u001b[0m \u001b[0mnp\u001b[0m\u001b[0;34m.\u001b[0m\u001b[0mrandom\u001b[0m\u001b[0;34m.\u001b[0m\u001b[0mrandom\u001b[0m\u001b[0;34m(\u001b[0m\u001b[0;34m(\u001b[0m\u001b[0mdimensions\u001b[0m\u001b[0;34m,\u001b[0m\u001b[0;34m)\u001b[0m\u001b[0;34m)\u001b[0m\u001b[0;34m\u001b[0m\u001b[0;34m\u001b[0m\u001b[0m\n\u001b[0;32m---> 11\u001b[0;31m \u001b[0mglobal_best_cost\u001b[0m \u001b[0;34m=\u001b[0m \u001b[0mforward_pass_weights_bin\u001b[0m\u001b[0;34m(\u001b[0m\u001b[0mglobal_best_position\u001b[0m\u001b[0;34m,\u001b[0m \u001b[0minput_size\u001b[0m\u001b[0;34m,\u001b[0m \u001b[0mcomputation_layer\u001b[0m\u001b[0;34m,\u001b[0m \u001b[0moutput_layer\u001b[0m\u001b[0;34m)\u001b[0m\u001b[0;34m\u001b[0m\u001b[0;34m\u001b[0m\u001b[0m\n\u001b[0m\u001b[1;32m     12\u001b[0m \u001b[0;34m\u001b[0m\u001b[0m\n\u001b[1;32m     13\u001b[0m \u001b[0mcost_list\u001b[0m \u001b[0;34m=\u001b[0m \u001b[0;34m[\u001b[0m\u001b[0;34m]\u001b[0m\u001b[0;34m\u001b[0m\u001b[0;34m\u001b[0m\u001b[0m\n",
      "\u001b[0;32m~/Desktop/research/stochastic-optimization-research/PSO/layer.py\u001b[0m in \u001b[0;36mforward_pass_weights_bin\u001b[0;34m(weights, input_size, computational_layer, output_layer)\u001b[0m\n\u001b[1;32m     60\u001b[0m \u001b[0;32mdef\u001b[0m \u001b[0mforward_pass_weights_bin\u001b[0m\u001b[0;34m(\u001b[0m\u001b[0mweights\u001b[0m\u001b[0;34m,\u001b[0m \u001b[0minput_size\u001b[0m\u001b[0;34m,\u001b[0m \u001b[0mcomputational_layer\u001b[0m\u001b[0;34m,\u001b[0m \u001b[0moutput_layer\u001b[0m\u001b[0;34m)\u001b[0m\u001b[0;34m:\u001b[0m\u001b[0;34m\u001b[0m\u001b[0;34m\u001b[0m\u001b[0m\n\u001b[1;32m     61\u001b[0m \u001b[0;34m\u001b[0m\u001b[0m\n\u001b[0;32m---> 62\u001b[0;31m     \u001b[0mprint\u001b[0m\u001b[0;34m(\u001b[0m\u001b[0mcomputation_layer\u001b[0m\u001b[0;34m)\u001b[0m\u001b[0;34m\u001b[0m\u001b[0;34m\u001b[0m\u001b[0m\n\u001b[0m\u001b[1;32m     63\u001b[0m \u001b[0;34m\u001b[0m\u001b[0m\n\u001b[1;32m     64\u001b[0m     \u001b[0mweights_1\u001b[0m\u001b[0;34m,\u001b[0m \u001b[0mbias_1\u001b[0m\u001b[0;34m,\u001b[0m \u001b[0mweights_2\u001b[0m\u001b[0;34m,\u001b[0m \u001b[0mbias_2\u001b[0m \u001b[0;34m=\u001b[0m \u001b[0munpack_ff_weights\u001b[0m\u001b[0;34m(\u001b[0m\u001b[0mweights\u001b[0m\u001b[0;34m,\u001b[0m\u001b[0;34m(\u001b[0m\u001b[0minput_size\u001b[0m\u001b[0;34m,\u001b[0m\u001b[0mcomputational_layer\u001b[0m\u001b[0;34m)\u001b[0m\u001b[0;34m,\u001b[0m\u001b[0;34m(\u001b[0m\u001b[0mcomputation_layer\u001b[0m\u001b[0;34m,\u001b[0m\u001b[0moutput_layer\u001b[0m\u001b[0;34m)\u001b[0m\u001b[0;34m)\u001b[0m\u001b[0;34m\u001b[0m\u001b[0;34m\u001b[0m\u001b[0m\n",
      "\u001b[0;31mNameError\u001b[0m: name 'computation_layer' is not defined"
     ]
    }
   ],
   "source": [
    "n_iterations = 25\n",
    "n_population = 100\n",
    "\n",
    "input_size = 4\n",
    "computation_layer = 5\n",
    "output_layer = 1\n",
    "dimensions = calculate_dimensions(input_size, computation_layer, output_layer)\n",
    "\n",
    "particles = [Particle(dimensions = dimensions) for x in range(n_population)]\n",
    "global_best_position = np.random.random((dimensions,))\n",
    "global_best_cost = forward_pass_weights_bin(global_best_position, input_size, computational_layer=computation_layer, output_layer)\n",
    "\n",
    "cost_list = []"
   ]
  },
  {
   "cell_type": "code",
   "execution_count": 5,
   "metadata": {},
   "outputs": [
    {
     "data": {
      "text/plain": [
       "(array([0.68810594, 0.01485576, 0.7247616 , 0.92983927, 0.40291763,\n",
       "        0.7944492 , 0.45353557, 0.52374285, 0.61561093, 0.80995657,\n",
       "        0.15142754, 0.75786721, 0.36020915, 0.96912578, 0.78966685,\n",
       "        0.61866321, 0.04980958, 0.67786011, 0.20646957, 0.74065712,\n",
       "        0.84717872, 0.19483103, 0.31257581, 0.4981945 , 0.34725531,\n",
       "        0.91935917, 0.12466225, 0.72969613, 0.65260945, 0.21793455,\n",
       "        0.41857436]),\n",
       " 4,\n",
       " 5,\n",
       " 1)"
      ]
     },
     "execution_count": 5,
     "metadata": {},
     "output_type": "execute_result"
    }
   ],
   "source": [
    "(global_best_position, input_size, computation_layer, output_layer)"
   ]
  },
  {
   "cell_type": "code",
   "execution_count": null,
   "metadata": {},
   "outputs": [],
   "source": []
  },
  {
   "cell_type": "code",
   "execution_count": null,
   "metadata": {},
   "outputs": [],
   "source": [
    "start = time.time()\n",
    "\n",
    "for iteration in range(n_iterations):\n",
    "    \n",
    "    for particle in particles:\n",
    "        particle.update_velocity()\n",
    "        particle.update_position()\n",
    "\n",
    "    for particle in particles:\n",
    "        \n",
    "        weights_1, bias_1, weights_2, bias_2 = unpack_weights(particle.position,(input_size,0),(computation_layer,0))\n",
    "        \n",
    "        layerOne = Layer(\"input->hidden\",weights_1,bias_1,X_train,relu)\n",
    "        A = layerOne.apply_activation()\n",
    "        layerTwo = Layer(\"hidden->output\",weights_2,bias_2,A,sigmoid)\n",
    "        output = layerTwo.apply_activation()\n",
    "        output = np.vectorize(lambda x: 0.99999999999 if (x==1.0) else x)(output)\n",
    "        output = np.vectorize(lambda x: 1-0.99999999999 if (x==0.0) else x)(output)\n",
    "        cost = calculate_cost(output, y_train)\n",
    "        \n",
    "        particle.evaluate(cost)\n",
    "        if(cost<global_best_cost):\n",
    "            global_best_cost = cost\n",
    "            global_best_position = particle.position\n",
    "        \n",
    "    cost_list.append(global_best_cost)\n",
    "    \n",
    "\n",
    "end = time.time()\n",
    "print(end - start)"
   ]
  }
 ],
 "metadata": {
  "kernelspec": {
   "display_name": "Python 3",
   "language": "python",
   "name": "python3"
  },
  "language_info": {
   "codemirror_mode": {
    "name": "ipython",
    "version": 3
   },
   "file_extension": ".py",
   "mimetype": "text/x-python",
   "name": "python",
   "nbconvert_exporter": "python",
   "pygments_lexer": "ipython3",
   "version": "3.8.3"
  }
 },
 "nbformat": 4,
 "nbformat_minor": 4
}
