{
 "cells": [
  {
   "cell_type": "code",
   "execution_count": 1,
   "metadata": {},
   "outputs": [],
   "source": [
    "from layer import *\n",
    "\n",
    "from __future__ import division\n",
    "import random\n",
    "import math\n",
    "import numpy as np\n",
    "import pandas as pd\n",
    "import time\n",
    "\n",
    "from sklearn.datasets import load_iris\n",
    "from sklearn.model_selection import train_test_split\n",
    "from sklearn.preprocessing import MinMaxScaler\n",
    "X = MinMaxScaler().fit_transform(load_iris().data)\n",
    "y = np.vectorize(lambda x: 1 if(x>0) else 0)(load_iris().target).astype(np.float64)\n",
    "X_train, X_test, y_train, y_test = train_test_split(X, y, train_size = 0.7, random_state=10, stratify=y)\n",
    "X_train = np.transpose(X_train)\n",
    "X_test = np.transpose(X_test)\n",
    "y_train = y_train.reshape(1,-1)\n",
    "y_test = y_test.reshape(1,-1)"
   ]
  },
  {
   "cell_type": "code",
   "execution_count": null,
   "metadata": {},
   "outputs": [],
   "source": []
  },
  {
   "cell_type": "code",
   "execution_count": 2,
   "metadata": {},
   "outputs": [],
   "source": [
    "global global_best_position\n",
    "global global_best_cost\n",
    "\n",
    "class Particle:\n",
    "    global input_size\n",
    "    global computational_layer\n",
    "    global ouput_layer\n",
    "    \n",
    "    def __init__(self, dimensions):\n",
    "        self.position = np.random.random((dimensions,))\n",
    "        self.dimensions = dimensions\n",
    "        self.position_bounds = [-10,10]\n",
    "        self.velocity_bounds = [(self.position_bounds[1]-self.position_bounds[0])/2, -1 * self.position_bounds[1]]\n",
    "        self.velocity = np.random.random((dimensions,))\n",
    "        self.best_position = np.random.random((dimensions,))\n",
    "        self.best_cost, _ = forward_pass_weights_bin(self.best_position,X_train, y_train ,input_size, computational_layer, output_layer)\n",
    "        \n",
    "        self.c = [2.05,2.05]\n",
    "        self.learning_rate = 0.65\n",
    "        \n",
    "    def evaluate(self, cost):\n",
    "        if(cost<self.best_cost):\n",
    "            self.best_cost = cost\n",
    "            self.best_position = self.position\n",
    "    \n",
    "    def update_velocity(self):\n",
    "        self.velocity = self.learning_rate * (self.velocity) + (self.c[0]*random.random()*(self.best_position - self.position)) + (self.c[1]*random.random()*(global_best_position - self.position))\n",
    "        \n",
    "    def update_position(self):\n",
    "        self.position = self.position + self.velocity\n",
    "        self.position = np.vectorize(lambda z: self.position_bounds[1] if z > self.position_bounds[1] else float(z)) (self.position)\n",
    "        self.position = np.vectorize(lambda z: self.position_bounds[0] if z < self.position_bounds[0] else float(z)) (self.position)\n",
    "        "
   ]
  },
  {
   "cell_type": "code",
   "execution_count": null,
   "metadata": {},
   "outputs": [],
   "source": []
  },
  {
   "cell_type": "code",
   "execution_count": 3,
   "metadata": {},
   "outputs": [
    {
     "name": "stdout",
     "output_type": "stream",
     "text": [
      "31\n"
     ]
    }
   ],
   "source": [
    "n_iterations = 100\n",
    "n_population = 80\n",
    "\n",
    "input_size = 4\n",
    "computational_layer = 5\n",
    "output_layer = 1\n",
    "dimensions = calculate_dimensions(input_size, computational_layer, output_layer)\n",
    "print(dimensions)\n",
    "\n",
    "particles = [Particle(dimensions = dimensions) for x in range(n_population)]\n",
    "global_best_position = np.random.random((dimensions,))\n",
    "global_best_cost, _ = forward_pass_weights_bin(global_best_position,X_train, y_train ,input_size, computational_layer, output_layer)\n",
    "\n",
    "cost_list = []"
   ]
  },
  {
   "cell_type": "code",
   "execution_count": 4,
   "metadata": {},
   "outputs": [
    {
     "name": "stdout",
     "output_type": "stream",
     "text": [
      "4.230683088302612\n",
      "0.43989018519879686\n",
      "3.786148904322657e-33\n",
      "6.0160458966547395e-18\n"
     ]
    }
   ],
   "source": [
    "start = time.time()\n",
    "\n",
    "for iteration in range(n_iterations):\n",
    "    \n",
    "    for particle in particles:\n",
    "        particle.update_velocity()\n",
    "        particle.update_position()\n",
    "\n",
    "    for particle in particles:\n",
    "        \n",
    "        cost, _ = forward_pass_weights_bin(particle.position,X_train, y_train ,input_size, computational_layer, output_layer)\n",
    "        \n",
    "        particle.evaluate(cost)\n",
    "        if(cost<global_best_cost):\n",
    "            global_best_cost = cost\n",
    "            global_best_position = particle.position\n",
    "        \n",
    "    cost_list.append(global_best_cost)\n",
    "    \n",
    "\n",
    "end = time.time()\n",
    "print(end - start)\n",
    "\n",
    "\n",
    "cost, output = forward_pass_weights_bin(global_best_position,X_train,y_train,input_size, computational_layer, output_layer)\n",
    "print(cost)\n",
    "print(reg_cost(y_train, output))\n",
    "print(mae(y_train, output))\n",
    "\n"
   ]
  },
  {
   "cell_type": "code",
   "execution_count": 5,
   "metadata": {},
   "outputs": [
    {
     "name": "stdout",
     "output_type": "stream",
     "text": [
      "0.43989018519879713\n",
      "1.9116454273688847e-37\n",
      "6.853945009256407e-20\n"
     ]
    }
   ],
   "source": [
    "cost, output = forward_pass_weights_bin(global_best_position,X_test,y_test,input_size, computational_layer, output_layer)\n",
    "print(cost)\n",
    "print(reg_cost(y_test, output))\n",
    "print(mae(y_test, output))\n"
   ]
  },
  {
   "cell_type": "code",
   "execution_count": 6,
   "metadata": {},
   "outputs": [
    {
     "data": {
      "text/plain": [
       "<matplotlib.axes._subplots.AxesSubplot at 0x7f957ef5be20>"
      ]
     },
     "execution_count": 6,
     "metadata": {},
     "output_type": "execute_result"
    },
    {
     "data": {
      "image/png": "[encoded data removed]",
      "text/plain": [
       "<Figure size 432x288 with 1 Axes>"
      ]
     },
     "metadata": {
      "needs_background": "light"
     },
     "output_type": "display_data"
    }
   ],
   "source": [
    "import matplotlib.pyplot as plt\n",
    "import seaborn as sns\n",
    "\n",
    "sns.lineplot(x=range(n_iterations), y = cost_list)"
   ]
  },
  {
   "cell_type": "code",
   "execution_count": null,
   "metadata": {},
   "outputs": [],
   "source": []
  }
 ],
 "metadata": {
  "kernelspec": {
   "display_name": "Python 3",
   "language": "python",
   "name": "python3"
  },
  "language_info": {
   "codemirror_mode": {
    "name": "ipython",
    "version": 3
   },
   "file_extension": ".py",
   "mimetype": "text/x-python",
   "name": "python",
   "nbconvert_exporter": "python",
   "pygments_lexer": "ipython3",
   "version": "3.8.3"
  }
 },
 "nbformat": 4,
 "nbformat_minor": 4
}
