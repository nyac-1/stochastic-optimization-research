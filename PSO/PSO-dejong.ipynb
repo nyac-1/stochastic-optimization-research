{
 "cells": [
  {
   "cell_type": "code",
   "execution_count": 22,
   "metadata": {},
   "outputs": [],
   "source": [
    "from layer import *\n",
    "\n",
    "from __future__ import division\n",
    "import random\n",
    "import math\n",
    "import numpy as np\n",
    "import pandas as pd\n",
    "import time\n",
    "\n",
    "xy = np.mgrid[-1:1:100j, -1:1:100j].reshape(2,-1)\n"
   ]
  },
  {
   "cell_type": "code",
   "execution_count": 20,
   "metadata": {},
   "outputs": [
    {
     "data": {
      "text/plain": [
       "array([[-1.        , -1.        , -1.        , ...,  1.        ,\n",
       "         1.        ,  1.        ],\n",
       "       [-1.        , -0.97979798, -0.95959596, ...,  0.95959596,\n",
       "         0.97979798,  1.        ]])"
      ]
     },
     "execution_count": 20,
     "metadata": {},
     "output_type": "execute_result"
    }
   ],
   "source": []
  },
  {
   "cell_type": "code",
   "execution_count": 2,
   "metadata": {},
   "outputs": [],
   "source": [
    "global global_best_position\n",
    "global global_best_cost\n",
    "\n",
    "class Particle:\n",
    "    global input_size\n",
    "    global computational_layer\n",
    "    global ouput_layer\n",
    "    \n",
    "    def __init__(self, dimensions):\n",
    "        self.position = np.random.random((dimensions,))\n",
    "        self.dimensions = dimensions\n",
    "        self.position_bounds = [-10,10]\n",
    "        self.velocity_bounds = [(self.position_bounds[1]-self.position_bounds[0])/2, -1 * self.position_bounds[1]]\n",
    "        self.velocity = np.random.random((dimensions,))\n",
    "        self.best_position = np.random.random((dimensions,))\n",
    "        self.best_cost, _ = forward_pass_weights_bin(self.best_position,X_train, y_train ,input_size, computational_layer, output_layer)\n",
    "        \n",
    "        self.c = [2.05,2.05]\n",
    "        self.learning_rate = 0.65\n",
    "        \n",
    "    def evaluate(self, cost):\n",
    "        if(cost<self.best_cost):\n",
    "            self.best_cost = cost\n",
    "            self.best_position = self.position\n",
    "    \n",
    "    def update_velocity(self):\n",
    "        self.velocity = self.learning_rate * (self.velocity) + (self.c[0]*random.random()*(self.best_position - self.position)) + (self.c[1]*random.random()*(global_best_position - self.position))\n",
    "        \n",
    "    def update_position(self):\n",
    "        self.position = self.position + self.velocity\n",
    "        self.position = np.vectorize(lambda z: self.position_bounds[1] if z > self.position_bounds[1] else float(z)) (self.position)\n",
    "        self.position = np.vectorize(lambda z: self.position_bounds[0] if z < self.position_bounds[0] else float(z)) (self.position)\n",
    "        "
   ]
  },
  {
   "cell_type": "code",
   "execution_count": null,
   "metadata": {},
   "outputs": [],
   "source": [
    "n_iterations = 100\n",
    "n_population = 80\n",
    "\n",
    "input_size = 4\n",
    "computational_layer = 5\n",
    "output_layer = 1\n",
    "dimensions = calculate_dimensions(input_size, computational_layer, output_layer)\n",
    "print(dimensions)\n",
    "\n",
    "particles = [Particle(dimensions = dimensions) for x in range(n_population)]\n",
    "global_best_position = np.random.random((dimensions,))\n",
    "global_best_cost, _ = forward_pass_weights_bin(global_best_position,X_train, y_train ,input_size, computational_layer, output_layer)\n",
    "\n",
    "cost_list = []"
   ]
  }
 ],
 "metadata": {
  "kernelspec": {
   "display_name": "Python 3",
   "language": "python",
   "name": "python3"
  },
  "language_info": {
   "codemirror_mode": {
    "name": "ipython",
    "version": 3
   },
   "file_extension": ".py",
   "mimetype": "text/x-python",
   "name": "python",
   "nbconvert_exporter": "python",
   "pygments_lexer": "ipython3",
   "version": "3.8.3"
  }
 },
 "nbformat": 4,
 "nbformat_minor": 4
}
