{
 "cells": [
  {
   "cell_type": "code",
   "execution_count": 1,
   "metadata": {},
   "outputs": [],
   "source": [
    "from layer import *\n",
    "\n",
    "from __future__ import division\n",
    "import random\n",
    "import math\n",
    "import numpy as np\n",
    "import pandas as pd\n",
    "import time\n",
    "from numpy.linalg import norm\n",
    "\n",
    "from sklearn.datasets import load_iris\n",
    "from sklearn.model_selection import train_test_split\n",
    "from sklearn.preprocessing import MinMaxScaler\n",
    "X = MinMaxScaler().fit_transform(load_iris().data)\n",
    "y = np.vectorize(lambda x: 1 if(x>0) else 0)(load_iris().target).astype(np.float64)\n",
    "X_train, X_test, y_train, y_test = train_test_split(X, y, train_size = 0.7, random_state=10, stratify=y)\n",
    "X_train = np.transpose(X_train)\n",
    "X_test = np.transpose(X_test)\n",
    "y_train = y_train.reshape(1,-1)\n",
    "y_test = y_test.reshape(1,-1)"
   ]
  },
  {
   "cell_type": "code",
   "execution_count": 2,
   "metadata": {},
   "outputs": [],
   "source": [
    "input_size = X.shape[1]\n",
    "computational_layer = 5\n",
    "output_layer = 1\n",
    "dimensions = calculate_dimensions(input_size, computational_layer, output_layer)\n",
    "\n",
    "def position_check(new_position):\n",
    "    new_position = np.vectorize(lambda z: Wildebeest.pmax if z > Wildebeest.pmax else float(z)) (new_position)\n",
    "    new_position = np.vectorize(lambda z: Wildebeest.pmin if z < Wildebeest.pmin else float(z)) (new_position)\n",
    "    return new_position"
   ]
  },
  {
   "cell_type": "code",
   "execution_count": 3,
   "metadata": {},
   "outputs": [],
   "source": [
    "class Wildebeest:\n",
    "    global dimensions\n",
    "    global_best_position = np.random.random((dimensions,))\n",
    "    global_best_cost, _ = forward_pass_weights_bin(global_best_position,X_train,y_train,input_size,computational_layer,output_layer)\n",
    "    pmax = 10\n",
    "    pmin = -10\n",
    "    \n",
    "    def __init__(self, dimensions):\n",
    "        self.position = np.random.random((dimensions,))\n",
    "        self.cost, _ = forward_pass_weights_bin(self.position,X_train,y_train,input_size,computational_layer,output_layer)\n",
    "        self.dimensions = dimensions\n",
    "        self.velocity = np.random.random((dimensions,))\n",
    "        self.pmax = 10\n",
    "        self.pmin = -10\n",
    "        \n",
    "        self.alpha_1 = 0.9 #Local movement\n",
    "        self.beta_1 = 0.3  #Local movement\n",
    "        self.alpha_2 = 0.2 #Global movement\n",
    "        self.beta_2 = 0.8  #Global movement\n",
    "        \n",
    "        self.delta_w = 2 #Threshold for nearness\n",
    "        self.delta_c = 2 #Threshold for avoiding crowds\n",
    "        \n",
    "        self.learning_rate = 0.2\n",
    "        self.n_steps = 4\n",
    "        self.n_e = 4\n",
    "\n",
    "\n",
    "    def take_steps(self):\n",
    "        steps = []\n",
    "\n",
    "        for _ in range(self.n_steps):\n",
    "            new_random_velocity = -1 + 2*np.random.random((self.dimensions,));\n",
    "            new_random_position = position_check(self.position + random.random()*new_random_velocity/norm(new_random_velocity))\n",
    "            new_cost, _ = forward_pass_weights_bin(new_random_position,X_train,y_train,input_size,computational_layer,output_layer)\n",
    "            steps.append([new_random_position, new_cost])\n",
    "\n",
    "        steps = sorted(steps, key = lambda x: x[1])\n",
    "\n",
    "        return steps\n",
    "    \n",
    "    def update_position(self, new_position, new_cost):\n",
    "        \n",
    "        self.position = position_check(self.alpha_1 * new_position + self.beta_1 * (self.position - new_position))\n",
    "        self.cost, _ = forward_pass_weights_bin(self.position,X_train,y_train,input_size,computational_layer,output_layer)\n",
    "        \n",
    "        if(self.cost < Wildebeest.global_best_cost):\n",
    "            global_best_position = self.position\n",
    "            global_best_cost = self.cost\n",
    "\n",
    "    \n",
    "    def herd_instinct(self, random_wildebeest):\n",
    "    \n",
    "        if(random_wildebeest.cost-1 < self.cost and random.random() < 0.3):\n",
    "            self.position = position_check(self.alpha_2 * self.position + self.beta_2 * random_wildebeest.position)\n",
    "            self.cost, _ = forward_pass_weights_bin(self.position,X_train,y_train,input_size,computational_layer,output_layer)\n",
    "            if(self.cost < Wildebeest.global_best_cost):\n",
    "                Wildebeest.global_best_position = self.position\n",
    "                Wildebeest.global_best_cost = self.cost\n",
    "\n",
    "    def feed_information(self, worst_position):\n",
    "        \n",
    "        if(norm(self.position-worst_position) < self.delta_w):\n",
    "            new_random_velocity = -1 + 2*np.random.random((self.dimensions,));\n",
    "            self.position = position_check(self.position + random.random()*10*(self.pmax-self.pmin)*new_random_velocity/norm(new_random_velocity))\n",
    "            self.cost, _ = forward_pass_weights_bin(self.position,X_train,y_train,input_size,computational_layer,output_layer)\n",
    "            \n",
    "            if(self.cost < Wildebeest.global_best_cost):\n",
    "                Wildebeest.global_best_position = self.position\n",
    "                Wildebeest.global_best_cost = self.cost\n",
    "                \n",
    "        \n",
    "        if(norm(Wildebeest.global_best_position - self.position) < self.delta_c and norm(Wildebeest.global_best_position - self.position) > 1):\n",
    "            self.position = position_check(Wildebeest.global_best_position + 0.0001*np.random.random((self.dimensions,)))\n",
    "            self.cost, _ = forward_pass_weights_bin(self.position,X_train,y_train,input_size,computational_layer,output_layer)\n",
    "            \n",
    "            if(self.cost < Wildebeest.global_best_cost):\n",
    "                Wildebeest.global_best_position = self.position\n",
    "                Wildebeest.global_best_cost = self.cost\n",
    "        \n",
    "        for _ in range(self.n_e):\n",
    "            velocity = -1 + 2*np.random.random((self.dimensions,))\n",
    "            position = position_check(Wildebeest.global_best_position + 0.1 * (velocity/norm(velocity)))\n",
    "            cost, _ = forward_pass_weights_bin(position,X_train,y_train,input_size,computational_layer,output_layer)\n",
    "            \n",
    "            if(cost < Wildebeest.global_best_cost):\n",
    "                Wildebeest.global_best_position = position\n",
    "                Wildebeest.global_best_cost = cost\n"
   ]
  },
  {
   "cell_type": "code",
   "execution_count": 4,
   "metadata": {},
   "outputs": [],
   "source": [
    "n_iterations = 100\n",
    "n_population = 80\n",
    "\n",
    "agents = [Wildebeest(dimensions = dimensions) for x in range(n_population)]\n",
    "temp = []\n",
    "cost_list = []"
   ]
  },
  {
   "cell_type": "code",
   "execution_count": 5,
   "metadata": {},
   "outputs": [
    {
     "name": "stdout",
     "output_type": "stream",
     "text": [
      "40.489774227142334\n",
      "0.43989018519899165\n",
      "8.857125000657918e-24\n",
      "5.582198464393848e-13\n"
     ]
    }
   ],
   "source": [
    "start = time.time()\n",
    "for _ in range(n_iterations):\n",
    "\n",
    "    for agent in agents:\n",
    "        steps = agent.take_steps()[0]\n",
    "        agent.update_position(steps[0], steps[1])\n",
    "\n",
    "    for agent in agents:\n",
    "        h = random.randint(1,n_population)\n",
    "        random_agent = agents[h-1]\n",
    "        agent.herd_instinct(random_agent)\n",
    "\n",
    "    for agent in agents:\n",
    "        temp.append([agent.position,agent.cost])\n",
    "    worst_position = sorted(temp, key = lambda x: x[1])[-1][0]\n",
    "\n",
    "    for agent in agents:\n",
    "        agent.feed_information(worst_position)\n",
    "\n",
    "    cost_list.append(Wildebeest.global_best_cost)\n",
    "\n",
    "end = time.time()\n",
    "print(end-start)\n",
    "\n",
    "cost, output = forward_pass_weights_bin(Wildebeest.global_best_position,X_train,y_train,input_size, computational_layer, output_layer)\n",
    "print(cost)\n",
    "print(reg_cost(y_train, output))\n",
    "print(mae(y_train, output))"
   ]
  },
  {
   "cell_type": "code",
   "execution_count": 6,
   "metadata": {},
   "outputs": [
    {
     "name": "stdout",
     "output_type": "stream",
     "text": [
      "0.43989018519879713\n",
      "6.302153381523014e-33\n",
      "1.1935318574065094e-17\n"
     ]
    }
   ],
   "source": [
    "cost, output = forward_pass_weights_bin(Wildebeest.global_best_position,X_test,y_test,input_size, computational_layer, output_layer)\n",
    "print(cost)\n",
    "print(reg_cost(y_test, output))\n",
    "print(mae(y_test, output))\n"
   ]
  },
  {
   "cell_type": "code",
   "execution_count": 7,
   "metadata": {},
   "outputs": [
    {
     "data": {
      "text/plain": [
       "<matplotlib.axes._subplots.AxesSubplot at 0x7fcb68392ee0>"
      ]
     },
     "execution_count": 7,
     "metadata": {},
     "output_type": "execute_result"
    },
    {
     "data": {
      "image/png": "[encoded data removed]",
      "text/plain": [
       "<Figure size 432x288 with 1 Axes>"
      ]
     },
     "metadata": {
      "needs_background": "light"
     },
     "output_type": "display_data"
    }
   ],
   "source": [
    "import matplotlib.pyplot as plt\n",
    "import seaborn as sns\n",
    "\n",
    "sns.lineplot(x=range(n_iterations), y = cost_list)"
   ]
  },
  {
   "cell_type": "code",
   "execution_count": null,
   "metadata": {},
   "outputs": [],
   "source": []
  }
 ],
 "metadata": {
  "kernelspec": {
   "display_name": "Python 3",
   "language": "python",
   "name": "python3"
  },
  "language_info": {
   "codemirror_mode": {
    "name": "ipython",
    "version": 3
   },
   "file_extension": ".py",
   "mimetype": "text/x-python",
   "name": "python",
   "nbconvert_exporter": "python",
   "pygments_lexer": "ipython3",
   "version": "3.8.3"
  }
 },
 "nbformat": 4,
 "nbformat_minor": 4
}
