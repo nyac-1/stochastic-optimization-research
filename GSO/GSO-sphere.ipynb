{
 "cells": [
  {
   "cell_type": "code",
   "execution_count": 1,
   "metadata": {},
   "outputs": [],
   "source": [
    "import sys\n",
    "sys.path.insert(0, '../util')\n",
    "\n",
    "from layer import *\n",
    "from plot import *\n",
    "\n",
    "from __future__ import division\n",
    "import random\n",
    "import math\n",
    "import numpy as np\n",
    "import pandas as pd\n",
    "import time\n",
    "\n",
    "xy = np.mgrid[-1:1:25j, -1:1:25j].reshape(2,-1).T\n",
    "xyT = xy.T\n",
    "\n",
    "sphere = np.array(list(map(lambda x: np.square(x[0]) + np.square(x[1]), xy))).reshape(1,-1)\n",
    "objective_function = sphere\n"
   ]
  },
  {
   "cell_type": "code",
   "execution_count": 2,
   "metadata": {},
   "outputs": [],
   "source": [
    "global global_best_position\n",
    "global global_best_cost\n",
    "\n",
    "class Particle:\n",
    "    global input_size\n",
    "    global computational_layer\n",
    "    global ouput_layer\n",
    "    \n",
    "    def __init__(self, dimensions):\n",
    "        self.position = np.random.random((dimensions,))\n",
    "        self.dimensions = dimensions\n",
    "        self.position_bounds = [-20,20]\n",
    "        self.velocity_bounds = [(self.position_bounds[1]-self.position_bounds[0])/2, -1 * self.position_bounds[1]]\n",
    "        self.velocity = np.random.random((dimensions,))\n",
    "        self.best_position = np.random.random((dimensions,))\n",
    "        self.best_cost, _ = forward_pass_weights_reg(self.best_position,xyT, objective_function ,input_size, computational_layer, output_layer)\n",
    "        \n",
    "        self.c = [2.05,2.05]\n",
    "        self.learning_rate = 0.6\n",
    "        \n",
    "    def evaluate(self, cost):\n",
    "        if(cost<self.best_cost):\n",
    "            self.best_cost = cost\n",
    "            self.best_position = self.position\n",
    "    \n",
    "    def update_velocity(self, swarm_best_position, omega):\n",
    "        self.velocity = omega * (self.velocity) + (self.c[0]*(2.0*random.random()-1.0)*(self.best_position - self.position)) + (self.c[1]*(2.0*random.random()-1.0)*(swarm_best_position - self.position))\n",
    "        \n",
    "    def update_position(self):\n",
    "        self.position = self.position + self.velocity\n",
    "        self.position = np.vectorize(lambda z: self.position_bounds[1] if z > self.position_bounds[1] else float(z)) (self.position)\n",
    "        self.position = np.vectorize(lambda z: self.position_bounds[0] if z < self.position_bounds[0] else float(z)) (self.position)\n",
    "        \n"
   ]
  },
  {
   "cell_type": "code",
   "execution_count": 3,
   "metadata": {},
   "outputs": [],
   "source": [
    "class Swarm:\n",
    "    global input_size\n",
    "    global computational_layer\n",
    "    global output_layer\n",
    "    \n",
    "    def __init__(self, dimensions, n_population):\n",
    "        self.particles = [Particle(dimensions) for x in range(n_population)]\n",
    "        self.swarm_best_particle = self.particles[0]\n",
    "        self.swarm_best_position = self.particles[0].position\n",
    "        self.swarm_best_cost, _ = forward_pass_weights_reg(self.swarm_best_position,xyT, objective_function ,input_size, computational_layer, output_layer)\n",
    "        \n",
    "    \n",
    "    def run_n_iterations(self, n_iterations):\n",
    "        for iteration in range(n_iterations+1):\n",
    "            omega = float(1.0-(iteration/(n_iterations+1)))\n",
    "            \n",
    "            for particle in self.particles:\n",
    "                particle.update_velocity(self.swarm_best_position, omega)\n",
    "                particle.update_position()\n",
    "            \n",
    "            for particle in self.particles:\n",
    "                \n",
    "                cost, _ = forward_pass_weights_reg(particle.position,xyT, objective_function ,input_size, computational_layer, output_layer)\n",
    "\n",
    "                particle.evaluate(cost)\n",
    "                if(cost<self.swarm_best_cost):\n",
    "                    self.swarm_best_cost = cost\n",
    "                    self.swarm_best_position = particle.position\n",
    "                    self.swarm_best_particle = particle"
   ]
  },
  {
   "cell_type": "code",
   "execution_count": 4,
   "metadata": {},
   "outputs": [
    {
     "name": "stdout",
     "output_type": "stream",
     "text": [
      "81\n"
     ]
    }
   ],
   "source": [
    "input_size = 2\n",
    "computational_layer = 20\n",
    "output_layer = 1\n",
    "dimensions = calculate_dimensions(input_size, computational_layer, output_layer)\n",
    "\n",
    "n_particles = 150\n",
    "n_swarms = 5\n",
    "dimensions = calculate_dimensions(input_size, computational_layer, output_layer)\n",
    "l1 = 100\n",
    "l2 = 70\n",
    "\n",
    "\n",
    "subswarms = [Swarm(dimensions, n_particles) for x in range(n_swarms)]\n",
    "collection_best = Swarm(dimensions, n_swarms)\n",
    "\n",
    "epochs = 2\n",
    "print(dimensions)"
   ]
  },
  {
   "cell_type": "code",
   "execution_count": null,
   "metadata": {},
   "outputs": [
    {
     "name": "stdout",
     "output_type": "stream",
     "text": [
      "++here==\n",
      "++here==\n",
      "++here==\n",
      "++here==\n",
      "++here==\n",
      "over\n",
      "++here==\n",
      "++here==\n",
      "++here==\n"
     ]
    }
   ],
   "source": [
    "start = time.time()\n",
    "\n",
    "for epoch in range(epochs):\n",
    "    for subswarm in subswarms:\n",
    "        print(\"++here==\")\n",
    "        subswarm.run_n_iterations(l1)\n",
    "\n",
    "    collection_best.particles = [subswarm.swarm_best_particle for subswarm in subswarms]\n",
    "    collection_best.run_n_iterations(l2)\n",
    "    print(\"over\")\n",
    "    \n",
    "\n",
    "end = time.time()\n",
    "print(end - start)\n",
    "\n",
    "cost, output = forward_pass_weights_reg(collection_best.swarm_best_position,xyT,objective_function,input_size, computational_layer, output_layer)\n",
    "print(cost)"
   ]
  },
  {
   "cell_type": "code",
   "execution_count": null,
   "metadata": {},
   "outputs": [],
   "source": [
    "print(reg_cost(objective_function, output))\n",
    "print(mae(objective_function, output))"
   ]
  },
  {
   "cell_type": "code",
   "execution_count": null,
   "metadata": {},
   "outputs": [],
   "source": [
    "plot_output(xy, output, \"Sphere-gso\")"
   ]
  },
  {
   "cell_type": "code",
   "execution_count": null,
   "metadata": {},
   "outputs": [],
   "source": []
  }
 ],
 "metadata": {
  "kernelspec": {
   "display_name": "Python 3",
   "language": "python",
   "name": "python3"
  },
  "language_info": {
   "codemirror_mode": {
    "name": "ipython",
    "version": 3
   },
   "file_extension": ".py",
   "mimetype": "text/x-python",
   "name": "python",
   "nbconvert_exporter": "python",
   "pygments_lexer": "ipython3",
   "version": "3.8.3"
  }
 },
 "nbformat": 4,
 "nbformat_minor": 4
}
